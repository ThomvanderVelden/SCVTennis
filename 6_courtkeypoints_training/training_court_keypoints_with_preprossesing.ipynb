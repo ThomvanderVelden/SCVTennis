{
 "metadata": {
  "colab": {
   "toc_visible": true,
   "provenance": []
  },
  "kernelspec": {
   "name": "python3",
   "display_name": "Python 3",
   "language": "python"
  },
  "language_info": {
   "name": "python",
   "version": "3.10.13",
   "mimetype": "text/x-python",
   "codemirror_mode": {
    "name": "ipython",
    "version": 3
   },
   "pygments_lexer": "ipython3",
   "nbconvert_exporter": "python",
   "file_extension": ".py"
  },
  "kaggle": {
   "accelerator": "gpu",
   "dataSources": [
    {
     "sourceId": 8690496,
     "sourceType": "datasetVersion",
     "datasetId": 5211047
    },
    {
     "sourceId": 8692472,
     "sourceType": "datasetVersion",
     "datasetId": 5212515
    },
    {
     "sourceId": 65350,
     "sourceType": "modelInstanceVersion",
     "modelInstanceId": 54517
    },
    {
     "sourceId": 65386,
     "sourceType": "modelInstanceVersion",
     "modelInstanceId": 54549
    }
   ],
   "dockerImageVersionId": 30733,
   "isInternetEnabled": false,
   "language": "python",
   "sourceType": "notebook",
   "isGpuEnabled": true
  }
 },
 "nbformat_minor": 4,
 "nbformat": 4,
 "cells": [
  {
   "cell_type": "markdown",
   "source": [
    "# Start code"
   ],
   "metadata": {
    "id": "16k_O3L1hEeA"
   }
  },
  {
   "cell_type": "code",
   "source": [
    "import torch\n",
    "import torch.nn as nn\n",
    "import torch.nn.functional as F\n",
    "from torch.utils.data import Dataset, DataLoader\n",
    "from torchvision import models, transforms\n",
    "import torchvision.models as models\n",
    "from torchvision.models import ResNet50_Weights\n",
    "from sklearn.model_selection import train_test_split\n",
    "import random\n",
    "from torch.optim.lr_scheduler import ReduceLROnPlateau\n",
    "import json\n",
    "import cv2\n",
    "import numpy as np\n",
    "import os\n",
    "from PIL import Image  # Add this import"
   ],
   "metadata": {
    "id": "xGeiB20VhEeD",
    "execution": {
     "iopub.status.busy": "2024-06-14T20:43:28.070847Z",
     "iopub.execute_input": "2024-06-14T20:43:28.071488Z",
     "iopub.status.idle": "2024-06-14T20:43:28.077438Z",
     "shell.execute_reply.started": "2024-06-14T20:43:28.071448Z",
     "shell.execute_reply": "2024-06-14T20:43:28.076447Z"
    },
    "trusted": true,
    "ExecuteTime": {
     "end_time": "2024-06-14T21:07:02.826019100Z",
     "start_time": "2024-06-14T21:07:02.789676900Z"
    }
   },
   "execution_count": 5,
   "outputs": []
  },
  {
   "cell_type": "code",
   "source": [
    "device = torch.device(\"cuda\" if torch.cuda.is_available() else \"cpu\")\n",
    "print(torch.cuda.is_available())"
   ],
   "metadata": {
    "id": "FrGRHNE5hEeD",
    "execution": {
     "iopub.status.busy": "2024-06-14T20:43:28.079160Z",
     "iopub.execute_input": "2024-06-14T20:43:28.079526Z",
     "iopub.status.idle": "2024-06-14T20:43:28.088689Z",
     "shell.execute_reply.started": "2024-06-14T20:43:28.079502Z",
     "shell.execute_reply": "2024-06-14T20:43:28.087856Z"
    },
    "trusted": true,
    "ExecuteTime": {
     "end_time": "2024-06-14T21:07:02.827531300Z",
     "start_time": "2024-06-14T21:07:02.799783Z"
    }
   },
   "execution_count": 6,
   "outputs": [
    {
     "name": "stdout",
     "output_type": "stream",
     "text": [
      "False\n"
     ]
    }
   ]
  },
  {
   "cell_type": "code",
   "source": [
    "# Read the video\n",
    "methodstring = 'dl'\n",
    "read_filename = 'straight_backview_decent.MOV'\n",
    "video = cv2.VideoCapture(f'input_videos/recorded/{read_filename}')\n",
    "\n",
    "# Load image\n",
    "# Set the video capture's position\n",
    "fps = video.get(cv2.CAP_PROP_FPS)\n",
    "index_time = 5\n",
    "index = int(index_time * fps)  # frame index\n",
    "video.set(cv2.CAP_PROP_POS_FRAMES, index)\n",
    "\n",
    "# Read the frame at the current position\n",
    "ret, frame = video.read()\n",
    "save_filename = f'{methodstring}frame_{index}_{read_filename}.png'\n",
    "if save_filename not in os.listdir('input_videos/frames/'):\n",
    "    cv2.imwrite(f'input_videos/frames/{save_filename}', frame)\n",
    "    image = cv2.imread(f'input_videos/frames/{save_filename}')\n",
    "else:\n",
    "    image = cv2.imread(f'input_videos/frames/{save_filename}')\n",
    "\n",
    "\n"
   ],
   "metadata": {
    "id": "JDkunJ7hhEeF",
    "ExecuteTime": {
     "end_time": "2024-06-14T21:07:03.105886200Z",
     "start_time": "2024-06-14T21:07:02.807333800Z"
    }
   },
   "execution_count": 7,
   "outputs": []
  },
  {
   "cell_type": "markdown",
   "source": [
    "# Create Torch Dataset"
   ],
   "metadata": {
    "id": "iz0P_dj7hEeG"
   }
  },
  {
   "cell_type": "code",
   "source": [
    " def preprocess_image(image):\n",
    "        # Convert to grayscale\n",
    "        gray = cv2.cvtColor(image, cv2.COLOR_RGB2GRAY)\n",
    "        # Apply Gaussian blur\n",
    "        blurred = cv2.GaussianBlur(gray, (5, 5), 0)\n",
    "        # Apply Canny edge detection\n",
    "        edges = cv2.Canny(blurred, 50, 150)\n",
    "        # Create a white mask\n",
    "        mask = np.ones_like(edges) * 255\n",
    "        # Apply the mask to the edges\n",
    "        preprocessed_image = cv2.bitwise_and(mask, mask, mask=edges)\n",
    "        # Convert back to 3 channels\n",
    "        preprocessed_image = cv2.cvtColor(preprocessed_image, cv2.COLOR_GRAY2RGB)\n",
    "        return preprocessed_image"
   ],
   "metadata": {
    "id": "SkbpfzIfhEeG",
    "execution": {
     "iopub.status.busy": "2024-06-14T20:43:28.090287Z",
     "iopub.execute_input": "2024-06-14T20:43:28.090559Z",
     "iopub.status.idle": "2024-06-14T20:43:28.108645Z",
     "shell.execute_reply.started": "2024-06-14T20:43:28.090536Z",
     "shell.execute_reply": "2024-06-14T20:43:28.107839Z"
    },
    "trusted": true,
    "ExecuteTime": {
     "end_time": "2024-06-14T21:07:03.112409Z",
     "start_time": "2024-06-14T21:07:03.103878600Z"
    }
   },
   "execution_count": 8,
   "outputs": []
  },
  {
   "cell_type": "code",
   "source": [
    "image = preprocess_image(image)\n",
    "cv2.imshow('image', image)\n",
    "cv2.waitKey(0)\n",
    "cv2.destroyAllWindows()"
   ],
   "metadata": {
    "collapsed": false,
    "jupyter": {
     "outputs_hidden": false
    },
    "trusted": true,
    "ExecuteTime": {
     "end_time": "2024-06-14T21:07:06.056029Z",
     "start_time": "2024-06-14T21:07:03.114503Z"
    }
   },
   "execution_count": 9,
   "outputs": []
  },
  {
   "cell_type": "code",
   "source": [
    "image_folder = \"/kaggle/input/own-dataset-44img-6kp/own_dataset_6kp\"\n",
    "annotations_path = \"/kaggle/input/own-dataset-44img-6kp/own_dataset_6kp/annotations.json\""
   ],
   "metadata": {
    "id": "9tNz-_nqhMfD",
    "outputId": "c33945f7-7330-40ab-fdcf-b8464994c921",
    "execution": {
     "iopub.status.busy": "2024-06-14T20:43:28.109892Z",
     "iopub.execute_input": "2024-06-14T20:43:28.110228Z",
     "iopub.status.idle": "2024-06-14T20:43:28.123237Z",
     "shell.execute_reply.started": "2024-06-14T20:43:28.110204Z",
     "shell.execute_reply": "2024-06-14T20:43:28.122407Z"
    },
    "trusted": true,
    "ExecuteTime": {
     "end_time": "2024-06-14T21:07:06.066874500Z",
     "start_time": "2024-06-14T21:07:06.057915500Z"
    }
   },
   "execution_count": 10,
   "outputs": []
  },
  {
   "cell_type": "code",
   "source": [
    "split_data(image_folder, annotations_path)"
   ],
   "metadata": {
    "execution": {
     "iopub.status.busy": "2024-06-14T20:43:28.124906Z",
     "iopub.execute_input": "2024-06-14T20:43:28.125291Z",
     "iopub.status.idle": "2024-06-14T20:43:28.139725Z",
     "shell.execute_reply.started": "2024-06-14T20:43:28.125258Z",
     "shell.execute_reply": "2024-06-14T20:43:28.138711Z"
    },
    "trusted": true,
    "ExecuteTime": {
     "end_time": "2024-06-14T21:07:06.231256900Z",
     "start_time": "2024-06-14T21:07:06.069873700Z"
    }
   },
   "execution_count": 11,
   "outputs": [
    {
     "ename": "NameError",
     "evalue": "name 'split_data' is not defined",
     "output_type": "error",
     "traceback": [
      "\u001B[1;31m---------------------------------------------------------------------------\u001B[0m",
      "\u001B[1;31mNameError\u001B[0m                                 Traceback (most recent call last)",
      "Cell \u001B[1;32mIn[11], line 1\u001B[0m\n\u001B[1;32m----> 1\u001B[0m \u001B[43msplit_data\u001B[49m(image_folder, annotations_path)\n",
      "\u001B[1;31mNameError\u001B[0m: name 'split_data' is not defined"
     ]
    }
   ]
  },
  {
   "cell_type": "code",
   "source": [
    "train_dataset = KeypointsDataset(\"/kaggle/input/own-dataset-44img-6kp/own_dataset_6kp\", \"/kaggle/working/data_train.json\")\n",
    "image_folder = '/kaggle/input/own-dataset-44img-6kp/own_dataset_6kp'\n",
    "train_annotations_path = '/kaggle/working/data_train.json'\n",
    "val_annotations_path = '/kaggle/working/data_val.json'\n",
    "\n",
    "train_loader, val_loader = create_dataloaders(image_folder, train_annotations_path, val_annotations_path, batch_size=4, preprocess=True)\n"
   ],
   "metadata": {
    "id": "gkgh8mughEeI",
    "execution": {
     "iopub.status.busy": "2024-06-14T20:43:28.140641Z",
     "iopub.execute_input": "2024-06-14T20:43:28.140890Z",
     "iopub.status.idle": "2024-06-14T20:43:28.147743Z",
     "shell.execute_reply.started": "2024-06-14T20:43:28.140867Z",
     "shell.execute_reply": "2024-06-14T20:43:28.146744Z"
    },
    "trusted": true
   },
   "execution_count": null,
   "outputs": []
  },
  {
   "cell_type": "code",
   "source": [],
   "metadata": {
    "id": "mkXaYT5rhEeI"
   },
   "execution_count": null,
   "outputs": []
  },
  {
   "cell_type": "markdown",
   "source": [
    "# Creat model"
   ],
   "metadata": {
    "id": "bgDCphchhEeI"
   }
  },
  {
   "cell_type": "code",
   "source": [
    "# Define the path to the downloaded weights file\n",
    "weights_path = '/kaggle/input/resnet-50/pytorch/resnet-50/1/resnet50-0676ba61.pth'\n",
    "\n",
    "# # Load the model without pre-trained weights\n",
    "# model = models.resnet50(weights=ResNet50_Weights.IMAGENET1K_V1)\n",
    "\n",
    "# Load the pre-trained weights from the file with map_location to handle CPU-only environments\n",
    "model = models.resnet50()\n",
    "model.load_state_dict(torch.load(weights_path, map_location=device))\n",
    "\n",
    "# Modify the fully connected layer to match the number of keypoints\n",
    "num_keypoints = 6  # Example number of keypoints\n",
    "model.fc = nn.Linear(model.fc.in_features, num_keypoints * 2)  # For (x, y) coordinates\n",
    "\n",
    "# Move the model to the appropriate device\n",
    "model = model.to(device)\n",
    "\n"
   ],
   "metadata": {
    "id": "IJLn4T-LhEeJ",
    "outputId": "8211032a-f80d-409e-9452-92f7086025d4",
    "execution": {
     "iopub.status.busy": "2024-06-14T20:43:28.148947Z",
     "iopub.execute_input": "2024-06-14T20:43:28.149281Z",
     "iopub.status.idle": "2024-06-14T20:43:28.796514Z",
     "shell.execute_reply.started": "2024-06-14T20:43:28.149250Z",
     "shell.execute_reply": "2024-06-14T20:43:28.795513Z"
    },
    "trusted": true
   },
   "execution_count": null,
   "outputs": []
  },
  {
   "cell_type": "code",
   "source": [],
   "metadata": {
    "id": "G9ZXmJslhEeJ",
    "trusted": true
   },
   "execution_count": null,
   "outputs": []
  },
  {
   "cell_type": "code",
   "source": [],
   "metadata": {
    "id": "K7n_BigUhEeK",
    "trusted": true
   },
   "execution_count": null,
   "outputs": []
  },
  {
   "cell_type": "markdown",
   "source": [
    "# Train model"
   ],
   "metadata": {
    "id": "pFywhbpthEeK"
   }
  },
  {
   "cell_type": "markdown",
   "source": [],
   "metadata": {}
  },
  {
   "cell_type": "code",
   "source": [
    "criterion = torch.nn.MSELoss()\n",
    "optimizer = torch.optim.Adam(model.parameters(), lr=1e-4)\n",
    "epochs = 200"
   ],
   "metadata": {
    "id": "1Za49sp_hEeK",
    "execution": {
     "iopub.status.busy": "2024-06-14T20:43:28.797694Z",
     "iopub.execute_input": "2024-06-14T20:43:28.798009Z",
     "iopub.status.idle": "2024-06-14T20:43:28.805205Z",
     "shell.execute_reply.started": "2024-06-14T20:43:28.797984Z",
     "shell.execute_reply": "2024-06-14T20:43:28.804412Z"
    },
    "trusted": true
   },
   "execution_count": null,
   "outputs": []
  },
  {
   "cell_type": "code",
   "source": [
    "for epoch in range(epochs):\n",
    "    model.train()\n",
    "    for i, batch in enumerate(train_loader):\n",
    "        imgs = batch['image'].to(device)\n",
    "        kps = batch['keypoints'].view(batch['keypoints'].size(0), -1).to(device)  # Flatten target keypoints\n",
    "        optimizer.zero_grad()\n",
    "        outputs = model(imgs)\n",
    "        loss = criterion(outputs, kps)\n",
    "        loss.backward()\n",
    "        optimizer.step()\n",
    "\n",
    "        if i % 10 == 0:\n",
    "            print(f\"Epoch {epoch}, iter {i}, loss: {loss.item()}\")\n",
    "\n",
    "    model.eval()\n",
    "    val_loss = 0.0\n",
    "    with torch.no_grad():\n",
    "        for batch in val_loader:\n",
    "            imgs = batch['image'].to(device)\n",
    "            kps = batch['keypoints'].view(batch['keypoints'].size(0), -1).to(device)  # Flatten target keypoints\n",
    "\n",
    "            outputs = model(imgs)\n",
    "            loss = criterion(outputs, kps)\n",
    "            val_loss += loss.item()\n",
    "\n",
    "    val_loss /= len(val_loader)\n",
    "    print(f\"Epoch {epoch}, Val Loss: {val_loss}\")"
   ],
   "metadata": {
    "id": "y26UKzHShEeK",
    "execution": {
     "iopub.status.busy": "2024-06-14T20:43:28.807074Z",
     "iopub.execute_input": "2024-06-14T20:43:28.807391Z",
     "iopub.status.idle": "2024-06-14T20:43:33.996678Z",
     "shell.execute_reply.started": "2024-06-14T20:43:28.807367Z",
     "shell.execute_reply": "2024-06-14T20:43:33.995077Z"
    },
    "trusted": true
   },
   "execution_count": null,
   "outputs": []
  },
  {
   "cell_type": "code",
   "source": [
    "torch.save(model.state_dict(), \"keypoints_model_weights.pth\")"
   ],
   "metadata": {
    "id": "C2bFdi5yhEeK",
    "execution": {
     "iopub.status.busy": "2024-06-14T20:43:33.997528Z",
     "iopub.status.idle": "2024-06-14T20:43:33.997962Z",
     "shell.execute_reply.started": "2024-06-14T20:43:33.997749Z",
     "shell.execute_reply": "2024-06-14T20:43:33.997767Z"
    },
    "trusted": true
   },
   "execution_count": null,
   "outputs": []
  },
  {
   "cell_type": "code",
   "source": [],
   "metadata": {
    "id": "KRnbEv7JhEeK"
   },
   "execution_count": null,
   "outputs": []
  }
 ]
}
